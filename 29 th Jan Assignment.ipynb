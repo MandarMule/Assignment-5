{
 "cells": [
  {
   "cell_type": "code",
   "execution_count": null,
   "id": "908ed1b7-288f-466c-af02-abc58cbbcba6",
   "metadata": {},
   "outputs": [],
   "source": [
    "Q1.Who developed python programming language?"
   ]
  },
  {
   "cell_type": "code",
   "execution_count": null,
   "id": "abbe9de4-b39e-45bf-b39d-a11157bba30f",
   "metadata": {},
   "outputs": [],
   "source": [
    "Guido van Rossum"
   ]
  },
  {
   "cell_type": "code",
   "execution_count": null,
   "id": "dfd3e2d1-6987-4991-9877-256a1f763512",
   "metadata": {},
   "outputs": [],
   "source": [
    "Q2. which type of programming does python support?"
   ]
  },
  {
   "cell_type": "code",
   "execution_count": null,
   "id": "95dd3807-8322-4820-bd16-3cad350d4520",
   "metadata": {},
   "outputs": [],
   "source": [
    "Python is an interpreted programming language, supporting object-oriented, structured, and functional programming"
   ]
  },
  {
   "cell_type": "code",
   "execution_count": null,
   "id": "2a0f91e0-d306-43af-9408-52c7cda1def4",
   "metadata": {},
   "outputs": [],
   "source": [
    "Q3.is python is case sensitive when dealing with identifiers?"
   ]
  },
  {
   "cell_type": "code",
   "execution_count": null,
   "id": "43b432b8-88d5-4061-b2ff-beab93c2b8b6",
   "metadata": {},
   "outputs": [],
   "source": [
    "Yes, Python is a case−sensitive programming language"
   ]
  },
  {
   "cell_type": "code",
   "execution_count": null,
   "id": "39462225-6be8-4cb9-9f51-3c7e39dbfde2",
   "metadata": {},
   "outputs": [],
   "source": [
    "Q4. what is correct extension of python file?"
   ]
  },
  {
   "cell_type": "code",
   "execution_count": null,
   "id": "e37f7128-4f0a-4e72-8c32-9570aa8587b1",
   "metadata": {},
   "outputs": [],
   "source": [
    ".pyc"
   ]
  },
  {
   "cell_type": "code",
   "execution_count": null,
   "id": "4a72be5b-d00f-4ed6-86b3-e8cb7dff2031",
   "metadata": {},
   "outputs": [],
   "source": [
    "Q5.is python code is compiled or interpreted"
   ]
  },
  {
   "cell_type": "code",
   "execution_count": null,
   "id": "c7cd8c32-2f15-418f-b2a1-d909ef0972db",
   "metadata": {},
   "outputs": [],
   "source": [
    "Python is an interpreted language"
   ]
  },
  {
   "cell_type": "code",
   "execution_count": null,
   "id": "dfc4841e-498e-42ae-95ef-eeefdad28995",
   "metadata": {},
   "outputs": [],
   "source": [
    "Q6.name a few blocks of code used to define in python"
   ]
  },
  {
   "cell_type": "code",
   "execution_count": null,
   "id": "37ca08bc-910e-41ce-a3fe-9e7aca2741fa",
   "metadata": {},
   "outputs": [],
   "source": [
    "a module, a function body, and a class definition"
   ]
  },
  {
   "cell_type": "code",
   "execution_count": null,
   "id": "9b61c49e-5bf5-46ef-8eb5-1b8e827195b3",
   "metadata": {},
   "outputs": [],
   "source": [
    "Q7. state character to give single line comment in python"
   ]
  },
  {
   "cell_type": "code",
   "execution_count": null,
   "id": "ee9efe9a-d1cb-464e-9645-7398c978fc17",
   "metadata": {},
   "outputs": [],
   "source": [
    "\"#\" is used for single line comment"
   ]
  },
  {
   "cell_type": "code",
   "execution_count": null,
   "id": "c55e7d78-ab7a-4d49-a194-d58c34653ec5",
   "metadata": {},
   "outputs": [],
   "source": [
    "Q8.mention function which can help us to find the version of python that we are currently working on"
   ]
  },
  {
   "cell_type": "code",
   "execution_count": null,
   "id": "41180bbc-f4ff-4c47-b34f-b6e6de89438d",
   "metadata": {},
   "outputs": [],
   "source": [
    "The function sys. version can help us to find the version of python that we are currently working on."
   ]
  },
  {
   "cell_type": "code",
   "execution_count": null,
   "id": "6a65c47c-eced-4fbd-b6b0-95f76146a00b",
   "metadata": {},
   "outputs": [],
   "source": [
    "Q9. Python supports the creation of anonymous functions at runtime, using a construct called________"
   ]
  },
  {
   "cell_type": "code",
   "execution_count": null,
   "id": "e84086bc-0122-4ce2-bb35-9354556cb666",
   "metadata": {},
   "outputs": [],
   "source": [
    "lambda."
   ]
  },
  {
   "cell_type": "code",
   "execution_count": null,
   "id": "0f49ce8f-6675-44ad-9759-d432a04f4f0a",
   "metadata": {},
   "outputs": [],
   "source": [
    "Q10.what does pip stand for python?"
   ]
  },
  {
   "cell_type": "code",
   "execution_count": null,
   "id": "3f7bfac3-4d23-47e8-b899-9643900a1e8e",
   "metadata": {},
   "outputs": [],
   "source": [
    "pip Install Packages"
   ]
  },
  {
   "cell_type": "code",
   "execution_count": null,
   "id": "14fcb1dc-1b70-43ac-a0a4-b28ffe86ac41",
   "metadata": {},
   "outputs": [],
   "source": [
    "Q11.mension the built in functions in python"
   ]
  },
  {
   "cell_type": "code",
   "execution_count": null,
   "id": "319c6a30-5f4a-4d6d-8d8b-a1833e446160",
   "metadata": {},
   "outputs": [],
   "source": [
    "print(),type(),int(),float(),list(),set(),dict(),tuple(), etc."
   ]
  },
  {
   "cell_type": "code",
   "execution_count": null,
   "id": "157e9178-272e-455a-a031-2797d4a66840",
   "metadata": {},
   "outputs": [],
   "source": [
    "Q12.what is maximum length of python identifier"
   ]
  },
  {
   "cell_type": "code",
   "execution_count": null,
   "id": "ab84bfe8-e1ac-40da-81cb-75ac312e3b7c",
   "metadata": {},
   "outputs": [],
   "source": [
    "79 characters"
   ]
  },
  {
   "cell_type": "code",
   "execution_count": null,
   "id": "f5c3f6a3-8f3f-4a2d-b2c4-814659712d38",
   "metadata": {},
   "outputs": [],
   "source": [
    "Q13.what are benefits of using python?"
   ]
  },
  {
   "cell_type": "code",
   "execution_count": null,
   "id": "855eb964-f988-4d19-b11e-232a1ea505d9",
   "metadata": {},
   "outputs": [],
   "source": [
    "1.Simple to Use and Understand.\n",
    "2.Free and Open-Source. \n",
    "3.Productivity has Increased. ...\n",
    "4.Interpreted Language. ...\n",
    "5.Extensive library. ...\n",
    "6.Dynamically Typed. ...\n",
    "7.Portability. ...\n",
    "8.Supportive community."
   ]
  },
  {
   "cell_type": "code",
   "execution_count": null,
   "id": "f73dc9ba-3c61-4a70-b1ab-bfcb2b902f93",
   "metadata": {},
   "outputs": [],
   "source": [
    "Q14.how is memory managed in python"
   ]
  },
  {
   "cell_type": "code",
   "execution_count": null,
   "id": "f39c39d6-f7c9-48d6-aa2f-d873030d71c3",
   "metadata": {},
   "outputs": [],
   "source": [
    "The Python memory manager is involved only in the allocation of the bytes object returned as a result"
   ]
  },
  {
   "cell_type": "code",
   "execution_count": null,
   "id": "3f69a156-eb8e-4960-84fa-eded6bf4c7b6",
   "metadata": {},
   "outputs": [],
   "source": [
    "Q15.How to install Python on Windows and set path variable?"
   ]
  },
  {
   "cell_type": "code",
   "execution_count": null,
   "id": "93385d1d-a07e-49d0-bb28-4de7899e9709",
   "metadata": {},
   "outputs": [],
   "source": [
    "Install python from this link https://www.python.org/downloads/\n",
    "After this, install it on your PC. Look for the location where PYTHON has been installed on your PC using tge following command on your \n",
    "command prompt: cmd python.\n",
    "Then go to advanced system settings and add new variable and name it as PYTHON_NAME and paste the copied path.\n",
    "Then look for the path variable, select it's value and select edit\n",
    "Add a semicolon towards the end of the value if it's not present and then type %PYTHON_HOME%"
   ]
  },
  {
   "cell_type": "code",
   "execution_count": null,
   "id": "0289ac5d-087e-4cde-bbd5-5a7b14a1cbf7",
   "metadata": {},
   "outputs": [],
   "source": [
    "Q16.is indentation required in python?"
   ]
  },
  {
   "cell_type": "code",
   "execution_count": null,
   "id": "63d42eba-a666-4eae-9951-655a9b9e2eae",
   "metadata": {},
   "outputs": [],
   "source": [
    "Indentation is important to Python, because it's how you determine scope. Scope is how Python knows what code belongs to what part of \n",
    "the program."
   ]
  }
 ],
 "metadata": {
  "kernelspec": {
   "display_name": "Python 3 (ipykernel)",
   "language": "python",
   "name": "python3"
  },
  "language_info": {
   "codemirror_mode": {
    "name": "ipython",
    "version": 3
   },
   "file_extension": ".py",
   "mimetype": "text/x-python",
   "name": "python",
   "nbconvert_exporter": "python",
   "pygments_lexer": "ipython3",
   "version": "3.10.8"
  }
 },
 "nbformat": 4,
 "nbformat_minor": 5
}
